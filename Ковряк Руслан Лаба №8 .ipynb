{
  "cells": [
    {
      "cell_type": "markdown",
      "metadata": {
        "id": "view-in-github",
        "colab_type": "text"
      },
      "source": [
        "<a href=\"https://colab.research.google.com/github/KovryakRuslan312005/MH-Kovryak-Ruslan-3-16/blob/main/%D0%9A%D0%BE%D0%B2%D1%80%D1%8F%D0%BA%20%D0%A0%D1%83%D1%81%D0%BB%D0%B0%D0%BD%20%D0%9B%D0%B0%D0%B1%D0%B0%20%E2%84%968%20.ipynb\" target=\"_parent\"><img src=\"https://colab.research.google.com/assets/colab-badge.svg\" alt=\"Open In Colab\"/></a>"
      ]
    },
    {
      "cell_type": "markdown",
      "source": [
        "Ковряк Руслан Павлович Лаба №8"
      ],
      "metadata": {
        "id": "RvrYD_i_bQAq"
      }
    },
    {
      "cell_type": "markdown",
      "source": [
        "1 КРОК - встановлюємо бібліотеки"
      ],
      "metadata": {
        "id": "yMXT1ENDbP8m"
      }
    },
    {
      "cell_type": "code",
      "execution_count": null,
      "metadata": {
        "id": "gJr_9dXGpJ05",
        "outputId": "cd327a68-65d3-4cea-95a9-5ec2facd4414",
        "colab": {
          "base_uri": "https://localhost:8080/"
        }
      },
      "outputs": [
        {
          "output_type": "stream",
          "name": "stdout",
          "text": [
            "Requirement already satisfied: numpy==1.24.4 in /usr/local/lib/python3.11/dist-packages (1.24.4)\n",
            "Requirement already satisfied: pandas in /usr/local/lib/python3.11/dist-packages (2.2.2)\n",
            "Requirement already satisfied: scikit-learn in /usr/local/lib/python3.11/dist-packages (1.6.1)\n",
            "Requirement already satisfied: python-dateutil>=2.8.2 in /usr/local/lib/python3.11/dist-packages (from pandas) (2.9.0.post0)\n",
            "Requirement already satisfied: pytz>=2020.1 in /usr/local/lib/python3.11/dist-packages (from pandas) (2025.2)\n",
            "Requirement already satisfied: tzdata>=2022.7 in /usr/local/lib/python3.11/dist-packages (from pandas) (2025.2)\n",
            "Requirement already satisfied: scipy>=1.6.0 in /usr/local/lib/python3.11/dist-packages (from scikit-learn) (1.15.2)\n",
            "Requirement already satisfied: joblib>=1.2.0 in /usr/local/lib/python3.11/dist-packages (from scikit-learn) (1.4.2)\n",
            "Requirement already satisfied: threadpoolctl>=3.1.0 in /usr/local/lib/python3.11/dist-packages (from scikit-learn) (3.6.0)\n",
            "Requirement already satisfied: six>=1.5 in /usr/local/lib/python3.11/dist-packages (from python-dateutil>=2.8.2->pandas) (1.17.0)\n",
            "Requirement already satisfied: scikit-surprise in /usr/local/lib/python3.11/dist-packages (1.1.4)\n",
            "Requirement already satisfied: joblib>=1.2.0 in /usr/local/lib/python3.11/dist-packages (from scikit-surprise) (1.4.2)\n",
            "Requirement already satisfied: numpy>=1.19.5 in /usr/local/lib/python3.11/dist-packages (from scikit-surprise) (1.24.4)\n",
            "Requirement already satisfied: scipy>=1.6.0 in /usr/local/lib/python3.11/dist-packages (from scikit-surprise) (1.15.2)\n"
          ]
        }
      ],
      "source": [
        "!pip install numpy==1.24.4 pandas scikit-learn\n",
        "!pip install scikit-surprise --no-binary scikit-surprise\n"
      ]
    },
    {
      "cell_type": "markdown",
      "source": [
        "2 КРОК - завантажуємо датасет  MovieLens 100k"
      ],
      "metadata": {
        "id": "scPAdCn1bQO3"
      }
    },
    {
      "cell_type": "code",
      "execution_count": null,
      "metadata": {
        "id": "-gE-Ez1qtyIA"
      },
      "outputs": [],
      "source": [
        "import pandas as pd\n",
        "\n",
        "url = \"http://files.grouplens.org/datasets/movielens/ml-100k/u.data\"\n",
        "df = pd.read_csv(url, sep='\\t', names=['user_id', 'movie_id', 'rating', 'timestamp'])\n",
        "df = df[['user_id', 'movie_id', 'rating']]\n"
      ]
    },
    {
      "cell_type": "markdown",
      "source": [
        "3 КРОК - Використовуємо метод найменших квадратів"
      ],
      "metadata": {
        "id": "jxOICtrLbQaE"
      }
    },
    {
      "cell_type": "code",
      "execution_count": null,
      "metadata": {
        "colab": {
          "base_uri": "https://localhost:8080/"
        },
        "id": "C4HZx7Gndbrh",
        "outputId": "7d4a42bd-a568-4d9f-c2c0-c10217870aa6"
      },
      "outputs": [
        {
          "output_type": "stream",
          "name": "stdout",
          "text": [
            "     user_id  movie_id  predicted_rating\n",
            "114       10         2          3.812466\n",
            "182       10         3          3.811823\n",
            "59        10         5          3.810537\n",
            "881       10         6          3.809893\n",
            "296       10         8          3.808607\n"
          ]
        }
      ],
      "source": [
        " from sklearn.linear_model import LinearRegression\n",
        "from sklearn.model_selection import train_test_split\n",
        "\n",
        "X = df[['user_id', 'movie_id']]\n",
        "y = df['rating']\n",
        "X_train, X_test, y_train, y_test = train_test_split(X, y, test_size=0.2)\n",
        "\n",
        "model_lr = LinearRegression().fit(X_train, y_train)\n",
        "\n",
        "user_id = 10\n",
        "movies_not_rated = df[~df['movie_id'].isin(df[df['user_id'] == user_id]['movie_id'])]['movie_id'].unique()\n",
        "input_data = pd.DataFrame({'user_id': user_id, 'movie_id': movies_not_rated})\n",
        "input_data['predicted_rating'] = model_lr.predict(input_data)\n",
        "\n",
        "print(input_data.sort_values(by='predicted_rating', ascending=False).head())\n"
      ]
    },
    {
      "cell_type": "markdown",
      "source": [
        "4 КРОК - Спуск градієнта"
      ],
      "metadata": {
        "id": "l-6yoHZybQqg"
      }
    },
    {
      "cell_type": "code",
      "source": [
        "import numpy as np\n",
        "\n",
        "n_users = df['user_id'].nunique()\n",
        "n_movies = df['movie_id'].nunique()\n",
        "R = np.zeros((n_users, n_movies))\n",
        "for row in df.itertuples():\n",
        "    R[row.user_id - 1, row.movie_id - 1] = row.rating\n",
        "\n",
        "n_factors = 10\n",
        "P = np.random.rand(n_users, n_factors)\n",
        "Q = np.random.rand(n_movies, n_factors)\n",
        "alpha = 0.005\n",
        "epochs = 20\n",
        "\n",
        "for epoch in range(epochs):\n",
        "    for i in range(n_users):\n",
        "        for j in range(n_movies):\n",
        "            if R[i][j] > 0:\n",
        "                eij = R[i][j] - np.dot(P[i, :], Q[j, :])\n",
        "                P[i, :] += alpha * (eij * Q[j, :])\n",
        "                Q[j, :] += alpha * (eij * P[i, :])\n",
        "\n",
        "pred_matrix = np.dot(P, Q.T)\n",
        "user_ratings = pred_matrix[user_id - 1]\n",
        "top_movies = np.argsort(user_ratings)[::-1][:5]\n",
        "\n",
        "print(\"Рекомендовані фільми (ID):\", top_movies + 1)\n"
      ],
      "metadata": {
        "id": "mG6sqlFmbPvB",
        "outputId": "e554786c-4f8f-4d7b-f59a-ca81ef60ce95",
        "colab": {
          "base_uri": "https://localhost:8080/"
        }
      },
      "execution_count": null,
      "outputs": [
        {
          "output_type": "stream",
          "name": "stdout",
          "text": [
            "Рекомендовані фільми (ID): [ 169 1367  272  318   64]\n"
          ]
        }
      ]
    },
    {
      "cell_type": "markdown",
      "source": [
        "5 КРОК - Кластеризація користувачів"
      ],
      "metadata": {
        "id": "Mpjv1d4wbQ09"
      }
    },
    {
      "cell_type": "code",
      "source": [
        "from sklearn.cluster import KMeans\n",
        "\n",
        "user_movie_matrix = df.pivot_table(index='user_id', columns='movie_id', values='rating').fillna(0)\n",
        "kmeans = KMeans(n_clusters=5, random_state=0)\n",
        "clusters = kmeans.fit_predict(user_movie_matrix)\n",
        "\n",
        "user_movie_matrix['cluster'] = clusters\n",
        "user_cluster = user_movie_matrix.loc[user_id]['cluster']\n",
        "cluster_users = user_movie_matrix[user_movie_matrix['cluster'] == user_cluster].drop('cluster', axis=1)\n",
        "mean_ratings = cluster_users.mean().sort_values(ascending=False)\n",
        "\n",
        "print(\"Топ-5 фільмів у кластері користувача:\\n\", mean_ratings.head())\n"
      ],
      "metadata": {
        "id": "BbxbxXbVbPoQ",
        "outputId": "e5b9ea14-4f1a-434f-86c9-2143fb20afde",
        "colab": {
          "base_uri": "https://localhost:8080/"
        }
      },
      "execution_count": null,
      "outputs": [
        {
          "output_type": "stream",
          "name": "stdout",
          "text": [
            "Топ-5 фільмів у кластері користувача:\n",
            " movie_id\n",
            "483    4.287879\n",
            "134    4.196970\n",
            "50     4.106061\n",
            "174    4.060606\n",
            "100    4.030303\n",
            "dtype: float64\n"
          ]
        }
      ]
    },
    {
      "cell_type": "markdown",
      "source": [
        "Висновк- В цій лабораторній роботі ми працювали з датасетом MovieLens 100k.Робили з цим датасетом:Метод найменших квадратів (лінійна регресія),Градієнтний спуск для матричної факторизації,Кластеризація (KMeans)."
      ],
      "metadata": {
        "id": "TPFct97Egnzy"
      }
    }
  ],
  "metadata": {
    "colab": {
      "toc_visible": true,
      "provenance": [],
      "include_colab_link": true
    },
    "kernelspec": {
      "display_name": "Python 3",
      "name": "python3"
    }
  },
  "nbformat": 4,
  "nbformat_minor": 0
}