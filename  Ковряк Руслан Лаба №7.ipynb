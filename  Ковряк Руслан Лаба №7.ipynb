{
  "cells": [
    {
      "cell_type": "markdown",
      "metadata": {
        "id": "view-in-github",
        "colab_type": "text"
      },
      "source": [
        "<a href=\"https://colab.research.google.com/github/KovryakRuslan312005/MH-Kovryak-Ruslan-3-16/blob/main/%20%D0%9A%D0%BE%D0%B2%D1%80%D1%8F%D0%BA%20%D0%A0%D1%83%D1%81%D0%BB%D0%B0%D0%BD%20%D0%9B%D0%B0%D0%B1%D0%B0%20%E2%84%967.ipynb\" target=\"_parent\"><img src=\"https://colab.research.google.com/assets/colab-badge.svg\" alt=\"Open In Colab\"/></a>"
      ]
    },
    {
      "cell_type": "markdown",
      "source": [
        "Ковряк Руслан Павлович ФІТ 3-16 Лаба №7"
      ],
      "metadata": {
        "id": "R1zT3NJ8SsAo"
      }
    },
    {
      "cell_type": "markdown",
      "source": [
        "1 крок- встановлюємо бібліотеку"
      ],
      "metadata": {
        "id": "yjHUDM3mSr7L"
      }
    },
    {
      "cell_type": "code",
      "execution_count": null,
      "metadata": {
        "id": "gJr_9dXGpJ05",
        "outputId": "ed832578-1ed7-436f-a992-5a2ae5751f19",
        "colab": {
          "base_uri": "https://localhost:8080/"
        }
      },
      "outputs": [
        {
          "output_type": "stream",
          "name": "stdout",
          "text": [
            "Requirement already satisfied: numpy==1.24.4 in /usr/local/lib/python3.11/dist-packages (1.24.4)\n",
            "Requirement already satisfied: scikit-surprise in /usr/local/lib/python3.11/dist-packages (1.1.4)\n",
            "Requirement already satisfied: joblib>=1.2.0 in /usr/local/lib/python3.11/dist-packages (from scikit-surprise) (1.4.2)\n",
            "Requirement already satisfied: numpy>=1.19.5 in /usr/local/lib/python3.11/dist-packages (from scikit-surprise) (1.24.4)\n",
            "Requirement already satisfied: scipy>=1.6.0 in /usr/local/lib/python3.11/dist-packages (from scikit-surprise) (1.15.2)\n"
          ]
        }
      ],
      "source": [
        "!pip install numpy==1.24.4\n",
        "!pip install scikit-surprise --no-binary scikit-surprise\n"
      ]
    },
    {
      "cell_type": "markdown",
      "source": [
        "2 крок- Підготовляємо датасет для роботи"
      ],
      "metadata": {
        "id": "NPGoxlcZSsSQ"
      }
    },
    {
      "cell_type": "code",
      "execution_count": null,
      "metadata": {
        "id": "-gE-Ez1qtyIA"
      },
      "outputs": [],
      "source": [
        "from surprise import Dataset, Reader\n",
        "from surprise.model_selection import train_test_split\n",
        "from surprise import KNNBasic, SVD\n",
        "from surprise import accuracy\n"
      ]
    },
    {
      "cell_type": "markdown",
      "source": [
        "3 крок- завантажуємо дані ті підготовляємо їх до роботи  "
      ],
      "metadata": {
        "id": "P5Nanf19Sslq"
      }
    },
    {
      "cell_type": "code",
      "execution_count": null,
      "metadata": {
        "id": "C4HZx7Gndbrh"
      },
      "outputs": [],
      "source": [
        "data = Dataset.load_builtin('ml-100k')\n",
        "trainset, testset = train_test_split(data, test_size=0.25)\n"
      ]
    },
    {
      "cell_type": "markdown",
      "source": [
        "4 крок - Ініціалізуємо моделі"
      ],
      "metadata": {
        "id": "ghNxbiy1SszU"
      }
    },
    {
      "cell_type": "code",
      "source": [
        "model_knn = KNNBasic()\n",
        "model_svd = SVD()\n"
      ],
      "metadata": {
        "id": "yYqWUg0xSrf9"
      },
      "execution_count": null,
      "outputs": []
    },
    {
      "cell_type": "markdown",
      "source": [
        "5 крок -Навчаємо моделі для правильної роботи"
      ],
      "metadata": {
        "id": "W_n3Q9GkSs-M"
      }
    },
    {
      "cell_type": "code",
      "source": [
        "model_knn.fit(trainset)\n",
        "model_svd.fit(trainset)\n"
      ],
      "metadata": {
        "id": "EmXw16_ZSram",
        "outputId": "b3607a7d-f061-4f74-e683-6910ed7bf41a",
        "colab": {
          "base_uri": "https://localhost:8080/"
        }
      },
      "execution_count": null,
      "outputs": [
        {
          "output_type": "stream",
          "name": "stdout",
          "text": [
            "Computing the msd similarity matrix...\n",
            "Done computing similarity matrix.\n"
          ]
        },
        {
          "output_type": "execute_result",
          "data": {
            "text/plain": [
              "<surprise.prediction_algorithms.matrix_factorization.SVD at 0x7dc0340b3990>"
            ]
          },
          "metadata": {},
          "execution_count": 7
        }
      ]
    },
    {
      "cell_type": "markdown",
      "source": [
        "6 крок - Оцінюємо моделі на ділі"
      ],
      "metadata": {
        "id": "ZeVDqXlIStLt"
      }
    },
    {
      "cell_type": "code",
      "source": [
        "\n",
        "pred_knn = model_knn.test(testset)\n",
        "pred_svd = model_svd.test(testset)\n",
        "\n",
        "\n",
        "print(\"📊 RMSE для KNN:\", accuracy.rmse(pred_knn))\n",
        "print(\"📊 RMSE для SVD:\", accuracy.rmse(pred_svd))\n"
      ],
      "metadata": {
        "id": "dnRlqyPeSrMh",
        "outputId": "86d78952-c5a6-4d21-af89-0b0aac0b281e",
        "colab": {
          "base_uri": "https://localhost:8080/"
        }
      },
      "execution_count": null,
      "outputs": [
        {
          "output_type": "stream",
          "name": "stdout",
          "text": [
            "RMSE: 0.9814\n",
            "📊 RMSE для KNN: 0.9813638286152154\n",
            "RMSE: 0.9396\n",
            "📊 RMSE для SVD: 0.9396058576458565\n"
          ]
        }
      ]
    },
    {
      "cell_type": "markdown",
      "source": [
        "7 крок - Рекомендації для конкретного користувача"
      ],
      "metadata": {
        "id": "Vbleho-oStWZ"
      }
    },
    {
      "cell_type": "code",
      "source": [
        "user_id = '196'  # ID користувача (з датасету ml-100k)\n",
        "\n",
        "# Отримаємо всі ID фільмів\n",
        "all_movie_ids = [trainset.to_raw_iid(iid) for iid in trainset.all_items()]\n",
        "\n",
        "# Фільми, які користувач ще не оцінив\n",
        "rated_iids = [trainset.to_raw_iid(j[0]) for j in trainset.ur[trainset.to_inner_uid(user_id)]]\n",
        "unrated_iids = [iid for iid in all_movie_ids if iid not in rated_iids]\n",
        "\n",
        "# Прогнозуємо оцінки для неоцінених фільмів\n",
        "predictions = [model_svd.predict(user_id, iid) for iid in unrated_iids]\n",
        "top_10 = sorted(predictions, key=lambda x: x.est, reverse=True)[:10]\n",
        "\n",
        "print(f\"\\n🎬 Топ-10 рекомендацій для користувача {user_id}:\")\n",
        "for pred in top_10:\n",
        "    print(f\"Фільм ID: {pred.iid} — прогнозована оцінка: {pred.est:.2f}\")\n"
      ],
      "metadata": {
        "id": "2S6fPTQFSrF5",
        "outputId": "d17e2cc9-77e9-4148-da04-372e9e5087f7",
        "colab": {
          "base_uri": "https://localhost:8080/"
        }
      },
      "execution_count": null,
      "outputs": [
        {
          "output_type": "stream",
          "name": "stdout",
          "text": [
            "\n",
            "🎬 Топ-10 рекомендацій для користувача 196:\n",
            "Фільм ID: 12 — прогнозована оцінка: 4.76\n",
            "Фільм ID: 483 — прогнозована оцінка: 4.56\n",
            "Фільм ID: 408 — прогнозована оцінка: 4.52\n",
            "Фільм ID: 318 — прогнозована оцінка: 4.49\n",
            "Фільм ID: 64 — прогнозована оцінка: 4.48\n",
            "Фільм ID: 513 — прогнозована оцінка: 4.47\n",
            "Фільм ID: 56 — прогнозована оцінка: 4.47\n",
            "Фільм ID: 165 — прогнозована оцінка: 4.46\n",
            "Фільм ID: 86 — прогнозована оцінка: 4.45\n",
            "Фільм ID: 654 — прогнозована оцінка: 4.45\n"
          ]
        }
      ]
    },
    {
      "cell_type": "markdown",
      "source": [
        "Висновок-в цій лаборотрній роботі ми працювали з датасетом Movielens100 та використовували бібліотеку Surpris.Оцінювали їх точність завдяки метрики RMSE(Для свого розуміння це середньоквадратична похибка)"
      ],
      "metadata": {
        "id": "AVBxN8vuVh2w"
      }
    }
  ],
  "metadata": {
    "colab": {
      "toc_visible": true,
      "provenance": [],
      "include_colab_link": true
    },
    "kernelspec": {
      "display_name": "Python 3",
      "name": "python3"
    }
  },
  "nbformat": 4,
  "nbformat_minor": 0
}